{
  "nbformat": 4,
  "nbformat_minor": 0,
  "metadata": {
    "colab": {
      "name": "spark_task1.ipynb",
      "provenance": []
    },
    "kernelspec": {
      "name": "python3",
      "display_name": "Python 3"
    },
    "language_info": {
      "name": "python"
    }
  },
  "cells": [
    {
      "cell_type": "markdown",
      "metadata": {
        "id": "wrpHxCFCVcGF"
      },
      "source": [
        "#Author: Meet Thakor"
      ]
    },
    {
      "cell_type": "markdown",
      "metadata": {
        "id": "opTsz-SLVorI"
      },
      "source": [
        "Importing Required Libs"
      ]
    },
    {
      "cell_type": "code",
      "metadata": {
        "id": "IDiUZuL6VWfK"
      },
      "source": [
        "import numpy as np\n",
        "import matplotlib.pyplot as plt\n",
        "from sklearn.linear_model import LinearRegression\n",
        "import pandas"
      ],
      "execution_count": 28,
      "outputs": []
    },
    {
      "cell_type": "markdown",
      "metadata": {
        "id": "CcUa3iPRWwNi"
      },
      "source": [
        "Import and fetch data from csv"
      ]
    },
    {
      "cell_type": "code",
      "metadata": {
        "colab": {
          "base_uri": "https://localhost:8080/"
        },
        "id": "2uUgCHCkW8zA",
        "outputId": "a3e922fb-ceaf-4d1f-9d9a-bd99f3b57d7d"
      },
      "source": [
        "dataframe = pandas.read_csv('https://raw.githubusercontent.com/AdiPersonalWorks/Random/master/student_scores%20-%20student_scores.csv')\n",
        "print(dataframe)"
      ],
      "execution_count": 29,
      "outputs": [
        {
          "output_type": "stream",
          "text": [
            "    Hours  Scores\n",
            "0     2.5      21\n",
            "1     5.1      47\n",
            "2     3.2      27\n",
            "3     8.5      75\n",
            "4     3.5      30\n",
            "5     1.5      20\n",
            "6     9.2      88\n",
            "7     5.5      60\n",
            "8     8.3      81\n",
            "9     2.7      25\n",
            "10    7.7      85\n",
            "11    5.9      62\n",
            "12    4.5      41\n",
            "13    3.3      42\n",
            "14    1.1      17\n",
            "15    8.9      95\n",
            "16    2.5      30\n",
            "17    1.9      24\n",
            "18    6.1      67\n",
            "19    7.4      69\n",
            "20    2.7      30\n",
            "21    4.8      54\n",
            "22    3.8      35\n",
            "23    6.9      76\n",
            "24    7.8      86\n"
          ],
          "name": "stdout"
        }
      ]
    },
    {
      "cell_type": "markdown",
      "metadata": {
        "id": "zYeLT9BuXv5m"
      },
      "source": [
        "Assigning values to variables"
      ]
    },
    {
      "cell_type": "code",
      "metadata": {
        "id": "JlxiLSPgX9cB"
      },
      "source": [
        "#reshapping xpoints to have one column and many rows\n",
        "xpoints = np.array(dataframe['Hours']).reshape(-1,1) \n",
        "ypoints = np.array(dataframe['Scores'])"
      ],
      "execution_count": 30,
      "outputs": []
    },
    {
      "cell_type": "markdown",
      "metadata": {
        "id": "YUlW5olVYs5R"
      },
      "source": [
        "Applying LinearRegression to fit data"
      ]
    },
    {
      "cell_type": "code",
      "metadata": {
        "colab": {
          "base_uri": "https://localhost:8080/"
        },
        "id": "BpBmzALDYwzM",
        "outputId": "666cb35d-09f4-446f-a09e-c60b884d5aa6"
      },
      "source": [
        "linreg = LinearRegression()\n",
        "linreg.fit(xpoints, ypoints)\n",
        "pred_y = linreg.predict(xpoints)\n",
        "print(pred_y)"
      ],
      "execution_count": 31,
      "outputs": [
        {
          "output_type": "stream",
          "text": [
            "[26.92318188 52.3402707  33.76624426 85.57800223 36.69898527 17.14737849\n",
            " 92.4210646  56.25059205 83.62284155 28.87834256 77.75735951 60.16091341\n",
            " 46.47478866 34.74382459 13.23705714 89.48832358 26.92318188 21.05769985\n",
            " 62.11607409 74.8246185  28.87834256 49.40752968 39.63172629 69.9367168\n",
            " 78.73493985]\n"
          ],
          "name": "stdout"
        }
      ]
    },
    {
      "cell_type": "markdown",
      "metadata": {
        "id": "ShqDoSm9Zs2g"
      },
      "source": [
        "Plotting in graph"
      ]
    },
    {
      "cell_type": "code",
      "metadata": {
        "colab": {
          "base_uri": "https://localhost:8080/",
          "height": 279
        },
        "id": "9H5FPqruZr4o",
        "outputId": "b4e79474-0056-4a7a-b312-3d03312e270c"
      },
      "source": [
        "plt.scatter(xpoints, ypoints)\n",
        "plt.plot(xpoints, pred_y)\n",
        "plt.xlabel('Hours')\n",
        "plt.ylabel('Scores')\n",
        "plt.show()"
      ],
      "execution_count": 32,
      "outputs": [
        {
          "output_type": "display_data",
          "data": {
            "image/png": "[encoded data removed]",
            "text/plain": [
              "<Figure size 432x288 with 1 Axes>"
            ]
          },
          "metadata": {
            "tags": [],
            "needs_background": "light"
          }
        }
      ]
    },
    {
      "cell_type": "markdown",
      "metadata": {
        "id": "0hnU_gKFagyJ"
      },
      "source": [
        "Test out Model"
      ]
    },
    {
      "cell_type": "code",
      "metadata": {
        "colab": {
          "base_uri": "https://localhost:8080/"
        },
        "id": "nHrjIqKTaiml",
        "outputId": "ea95f650-8030-484c-9903-b487328c13d6"
      },
      "source": [
        "hours = np.array([9.5]).reshape(-1,1)\n",
        "scores = linreg.predict(hours)\n",
        "print(scores) "
      ],
      "execution_count": 35,
      "outputs": [
        {
          "output_type": "stream",
          "text": [
            "[95.35380562]\n"
          ],
          "name": "stdout"
        }
      ]
    },
    {
      "cell_type": "markdown",
      "metadata": {
        "id": "VCfhZhwVbIVS"
      },
      "source": [
        "Coefficient of determination -> Best(1) to worst(<0)"
      ]
    },
    {
      "cell_type": "code",
      "metadata": {
        "colab": {
          "base_uri": "https://localhost:8080/"
        },
        "id": "s7xjXSYXbLg1",
        "outputId": "30b769db-ffda-4bce-fa6c-f84a224fb2af"
      },
      "source": [
        "linreg.score(xpoints, ypoints)"
      ],
      "execution_count": 34,
      "outputs": [
        {
          "output_type": "execute_result",
          "data": {
            "text/plain": [
              "0.9529481969048356"
            ]
          },
          "metadata": {
            "tags": []
          },
          "execution_count": 34
        }
      ]
    }
  ]
}